{
 "cells": [
  {
   "cell_type": "markdown",
   "metadata": {},
   "source": [
    "## COMP 551 A3\n",
    "### Images Classification\n",
    "#### Multi-Layer Perceptron (MLP) / Neuron Nets\n",
    "\n",
    "[CIFAR-10](http://www.cs.toronto.edu/~kriz/cifar.html) is the dataset we are using for this assignment.\n"
   ]
  },
  {
   "cell_type": "code",
   "execution_count": 24,
   "metadata": {},
   "outputs": [],
   "source": [
    "import numpy as np\n",
    "import pandas as pd\n",
    "from tqdm.notebook import tqdm\n",
    "import matplotlib.pyplot as plt\n",
    "from sklearn.preprocessing import Normalizer\n",
    "from sklearn.model_selection import train_test_split"
   ]
  },
  {
   "cell_type": "markdown",
   "metadata": {},
   "source": [
    "### Read data"
   ]
  },
  {
   "cell_type": "code",
   "execution_count": 25,
   "metadata": {},
   "outputs": [],
   "source": [
    "def unpickle(file):\n",
    "    import pickle\n",
    "    with open(file, 'rb') as fo:\n",
    "        dict = pickle.load(fo, encoding='bytes')\n",
    "    return dict\n",
    "\n",
    "# X dim = 50000*3072\n",
    "# Y dim = 50000*1\n",
    "X = np.empty([0,3072])\n",
    "Y = np.empty([0,1])\n",
    "for i in range(1,6):\n",
    "    file = \"C:/Users/Donghan/Desktop/cifar-10-batches-py/data_batch_{}\".format(i)\n",
    "    dicts = unpickle(file)\n",
    "    X = np.append(X, dicts[b'data'], axis = 0)\n",
    "    Y = np.append(Y, np.expand_dims(dicts[b'labels'], axis = 1), axis = 0)\n",
    "# print(X)\n",
    "X = np.asarray(X)\n",
    "Y = np.asarray(Y)\n",
    "\n",
    "file_test = \"C:/Users/Donghan/Desktop/cifar-10-batches-py/test_batch\"\n",
    "X_test = unpickle(file_test)[b'data']\n",
    "Y_test = unpickle(file_test)[b'labels']"
   ]
  },
  {
   "cell_type": "markdown",
   "metadata": {},
   "source": [
    "### Activation function for forward and backward layer\n",
    "\n",
    "Options:\n",
    "* sigmoid\n",
    "* relu\n",
    "* leaky_relu\n",
    "* softmax\n",
    "\n",
    "Others are not supported yet"
   ]
  },
  {
   "cell_type": "code",
   "execution_count": 26,
   "metadata": {},
   "outputs": [],
   "source": [
    "def sigmoid(Z):\n",
    "    return 1/(1 + np.exp(-Z))\n",
    "\n",
    "def relu(Z):\n",
    "    return np.maximum(0,Z)\n",
    "\n",
    "def leaky_relu(Z):\n",
    "    return np.where(Z > 0, Z, Z * 0.01)\n",
    "    \n",
    "def leaky_relu_back(dl, Z, alpha=0.01):\n",
    "    dx = np.ones_like(Z)\n",
    "    dx[Z < 0] = alpha\n",
    "    return dx*dl\n",
    "    \n",
    "def sigmoid_back(dA, Z):\n",
    "    return dA * sigmoid(Z) * (1 - sigmoid(Z))\n",
    "\n",
    "def relu_back(dA, Z):\n",
    "    dZ = np.array(dA, copy = True)\n",
    "    np.squeeze(dZ)[np.squeeze(Z) <= 0] = 0;\n",
    "    return dZ\n",
    "\n",
    "def logsumexp(Z):    \n",
    "    Zmax = np.max(Z,axis=1)[:, None]    \n",
    "    lse = Zmax + np.log(np.sum(np.exp(Z - Zmax), axis=1))[:, None]    \n",
    "    return lse #N    \n",
    "\n",
    "def softmax(\n",
    "    u, # N x C\n",
    "    ):\n",
    "    u_exp = np.exp(u - np.max(u, 1)[:, None])\n",
    "    return u_exp / np.sum(u_exp, axis=-1)[:, None]\n",
    "\n",
    "def softmax_back(dA, u):\n",
    "    return dA * softmax(u) * (1-softmax(u))"
   ]
  },
  {
   "cell_type": "code",
   "execution_count": 27,
   "metadata": {},
   "outputs": [],
   "source": [
    "def gradients(X,#N x D              \n",
    "              Y,#N x K              \n",
    "              W,#M x K               \n",
    "              V,#D x M             \n",
    "             ):\n",
    "    Z = logistic(np.dot(X, V))#N x M  \n",
    "    N,D = X.shape    \n",
    "    Yh = softmax(np.dot(Z, W))#N x K    \n",
    "    dY = Yh - Y #N x K\n",
    "    dW= np.dot(Z.T, dY)/N #M x K   \n",
    "    dZ = np.dot(dY, W.T) #N x M    \n",
    "    dV = np.dot(X.T, dZ * Z * (1 - Z))/N #D x M \n",
    "    return dW, dV"
   ]
  },
  {
   "cell_type": "code",
   "execution_count": 28,
   "metadata": {},
   "outputs": [],
   "source": [
    "def GD(X, Y, M, lr=.1, eps=1e-9, max_iters=100000):\n",
    "    N, D = X.shape\n",
    "    N,K = Y.shape\n",
    "    W = np.random.randn(M, K)*.01\n",
    "    V = np.random.randn(D, M)*.01\n",
    "    dW = np.inf*np.ones_like(W)\n",
    "    t = 0\n",
    "    while np.linalg.norm(dW) > eps and t < max_iters:\n",
    "        dW, dV = gradients(X, Y, W, V)        \n",
    "        W = W - lr*dW       \n",
    "        V = V - lr*dV\n",
    "        t+=1\n",
    "    return W,V"
   ]
  },
  {
   "cell_type": "markdown",
   "metadata": {},
   "source": [
    "### Neuron Network\n",
    "#### Initialize the layer dimension and weights, bias"
   ]
  },
  {
   "cell_type": "code",
   "execution_count": 29,
   "metadata": {},
   "outputs": [],
   "source": [
    "def init_layers(input_dim, out_dim, batch_size):\n",
    "    return np.random.randn(\n",
    "            input_dim, out_dim) * 0.1, np.zeros(out_dim)\n",
    "\n",
    "def init_weight_bias(layer_dim):\n",
    "    W = []\n",
    "    b = []\n",
    "    for i in layer_dim:\n",
    "        weight, bias = init_layers(i[0],i[1],batch_size)\n",
    "        W.append(weight)\n",
    "        b.append(bias)\n",
    "    return W, b"
   ]
  },
  {
   "cell_type": "markdown",
   "metadata": {},
   "source": [
    "### Forward Pass"
   ]
  },
  {
   "cell_type": "code",
   "execution_count": 30,
   "metadata": {},
   "outputs": [],
   "source": [
    "class Forward_layers:\n",
    "    '''\n",
    "    First forward layer:\n",
    "    A_prev = X\n",
    "    '''    \n",
    "    def __init__(self, layer):\n",
    "        self.W = layer[\"weights\"]\n",
    "        self.b = layer[\"bias\"]\n",
    "        self.activation = layer[\"activations\"]\n",
    "        self.layer_dim = layer[\"layer_dim\"]\n",
    "        self.num_layer = len(self.layer_dim)\n",
    "        \n",
    "    def fit(self, A_prev, W, b, activation):\n",
    "        Z_curr = np.dot(A_prev, W) + b\n",
    "\n",
    "        if activation == \"relu\":\n",
    "            activation = relu\n",
    "        elif activation == \"sigmoid\":\n",
    "            activation = sigmoid\n",
    "        elif activation == \"leaky_relu\":\n",
    "            activation = leaky_relu\n",
    "        elif activation == \"softmax\":\n",
    "            activation = softmax\n",
    "        else:\n",
    "            print(\"This activation function is not supported\")\n",
    "            return\n",
    "            \n",
    "        return activation(Z_curr), Z_curr\n",
    "    \n",
    "    def forward(self, X):\n",
    "        memory_A = []\n",
    "        memory_Z = []\n",
    "        A_curr = X\n",
    "        # Loop over the all layers and update the Y_h/A_curr for each layer\n",
    "        for i in range(self.num_layer):\n",
    "            A_prev = A_curr\n",
    "            if i == self.num_layer - 1:\n",
    "                # A_curr is also Y_h\n",
    "                A_curr, Z_curr = self.fit(A_prev, self.W[-1], self.b[-1], self.activation[-1])\n",
    "            else:\n",
    "                A_curr, Z_curr = self.fit(A_prev, self.W[i], self.b[i], self.activation[i])\n",
    "\n",
    "            memory_A.append(A_prev)\n",
    "            memory_Z.append(Z_curr)\n",
    "            \n",
    "        return A_curr, Z_curr, memory_A, memory_Z"
   ]
  },
  {
   "cell_type": "markdown",
   "metadata": {},
   "source": [
    "### Backward Pass"
   ]
  },
  {
   "cell_type": "code",
   "execution_count": 31,
   "metadata": {},
   "outputs": [],
   "source": [
    "class Backward_layers:\n",
    "    def __init__(self,layer):\n",
    "        self.activation = layer[\"activations\"]\n",
    "        self.layer_dim = layer[\"layer_dim\"]\n",
    "        self.num_layer = len(self.layer_dim)\n",
    "    \n",
    "    def fit(self, dA_curr, W_curr, b_curr, Z_curr, A_prev, activation_back):\n",
    "        N,D = A_prev.shape\n",
    "\n",
    "        if activation_back == \"relu\":\n",
    "            activation_back = relu_back\n",
    "        elif activation_back == \"sigmoid\":\n",
    "            activation_back = sigmoid_back\n",
    "        elif activation_back == \"leaky_relu\":\n",
    "            activation_back = leaky_relu_back\n",
    "        elif activation_back == \"softmax\":\n",
    "            activation_back = softmax_back\n",
    "        else:\n",
    "            print(\"This activation function is not supported\")\n",
    "            return\n",
    "        \n",
    "        # Get the gradient\n",
    "        dZ_curr = activation_back(dA_curr, Z_curr)\n",
    "        dW_curr = np.dot(A_prev.T, dZ_curr) / N\n",
    "        db_curr = np.sum(dZ_curr.T, axis=1) / N\n",
    "        dA_prev = np.dot(dZ_curr, W_curr.T)\n",
    "        \n",
    "        return dA_prev, dW_curr, db_curr\n",
    "    \n",
    "    def backward(self, Y_h, Y,memory_W, memory_b, memory_A, memory_Z):\n",
    "        dA_prev = - (np.divide(Y, Y_h) - np.divide(1 - Y, 1 - Y_h))\n",
    "        gradient_W = []\n",
    "        gradient_b = []\n",
    "        # Loop backward to get the gradient for each layer\n",
    "        for i in range(self.num_layer):\n",
    "            # Since backward layer, loop from the last element in the memory list\n",
    "            dA_curr = dA_prev\n",
    "            W_curr = memory_W[-i-1]\n",
    "            b_curr = memory_b[-i-1]\n",
    "            Z_curr = memory_Z[-i-1]\n",
    "            A_prev = memory_A[-i-1]\n",
    "            # Same as above\n",
    "            if i == 0:\n",
    "                dA_prev, dW_curr, db_curr = self.fit(dA_curr, W_curr, \\\n",
    "                                                    b_curr, Z_curr, A_prev, self.activation[-1])\n",
    "            else:\n",
    "                dA_prev, dW_curr, db_curr = self.fit(dA_curr, W_curr, \\\n",
    "                                                    b_curr, Z_curr, A_prev, self.activation[-i-1])\n",
    "            gradient_W.append(dW_curr)\n",
    "            gradient_b.append(db_curr)\n",
    "        return gradient_W, gradient_b"
   ]
  },
  {
   "cell_type": "markdown",
   "metadata": {},
   "source": [
    "## ANN - The Combination of Forward and Backward layers\n",
    "\n",
    "**Dataflow and General Procedure:**\n",
    "\n",
    "1. Initialize the ***weight and bias*** by given of the predefined layer dimension\n",
    "2. Input feature ***data*** and ***labels***\n",
    "3. Forward the data in ***Forward layers***\n",
    "4. Obtain the ***Y_hat and memories of Y_hat*** for previous forward layers\n",
    "5. Pass the memories of Y_hat and initialized weight and bias into backward layer for ***backparagation***\n",
    "6. ***Update the weight and bias*** by the calculated gradients (use gradient descent)\n",
    "7. ***Loop*** over all the mini-batches\n",
    "\n",
    "### Methods\n",
    "\n",
    "* **fit(X,Y)** - Train the model by given of X/input, Y/labels\n",
    "\n",
    "* **predict(X)** - Get the prediction class by given of X\n",
    "\n",
    "* **predict_prob(X)** - Get the prediction probabilities by given of X\n",
    "\n",
    "* **score(X,Y)** - Return the accuracy score by given of X/input, Y/labels\n",
    "\n",
    "* **cost(X,Y)** - Cross-entropy cost function, return the prediction-true loss\n",
    "\n",
    "### Attributes\n",
    "\n",
    "* **attributes()** - Return the Weight, Bias, Layer_dim, Activation for the current neuron net"
   ]
  },
  {
   "cell_type": "code",
   "execution_count": 32,
   "metadata": {},
   "outputs": [],
   "source": [
    "class ANN(Forward_layers, Backward_layers):\n",
    "    def __init__(self, layer):\n",
    "        super().__init__(layer)\n",
    "        self.layer = layer\n",
    "    \n",
    "    def fit(self, X, Y):\n",
    "        forward = Forward_layers(self.layer)\n",
    "        A_curr, Z_curr, memory_A, memory_Z = forward.forward(X)\n",
    "        Y_h = A_curr\n",
    "        backward = Backward_layers(self.layer)\n",
    "        gradient_W, gradient_b = backward.backward(Y_h, Y,memory_W, memory_b, memory_A, memory_Z)\n",
    "        for i in range(len(self.layer_dim)):\n",
    "            self.layer[\"weights\"][-i-1] -= lr*gradient_W[i]  \n",
    "            self.layer[\"bias\"][-i-1] -= lr*gradient_b[i]\n",
    "        \n",
    "    def forward(self, X):\n",
    "        forward = Forward_layers(self.layer)\n",
    "        A_curr, _,_,_ = forward.forward(X)\n",
    "        return A_curr\n",
    "    \n",
    "    def predict(self, X):\n",
    "        '''Return probabilities of class'''\n",
    "        Y_h_prob = self.forward(X)\n",
    "        return np.where(softmax(Y_h_prob) >= np.expand_dims(np.max(softmax(Y_h_prob), \\\n",
    "                                                                   axis = 1), axis = 1), 1, 0)\n",
    "    \n",
    "    def predict_prob(self, X):\n",
    "        return self.forward(X)\n",
    "    \n",
    "    def attributes(self):\n",
    "        return dict(zip([\"Weight\",\"Bias\",\"Layer_dim\",\"Activation\"],[self.layer[\"weights\"],\\\n",
    "                                                                    self.layer[\"bias\"],\\\n",
    "                                                                    self.layer[\"layer_dim\"],\\\n",
    "                                                                    self.layer[\"activations\"]]))\n",
    "    def score(self, X, Y):\n",
    "        Y_h_prob = self.forward(X)\n",
    "        Y_h_class = np.where(softmax(Y_h_prob) >= np.expand_dims(np.max(softmax(Y_h_prob), \\\n",
    "                                                                        axis = 1), axis = 1), 1, 0)\n",
    "        return np.mean([True if (Y_h_class[i] == Y[i]).all() else False for i in range(len(Y))])\n",
    "    \n",
    "    def cost(self, X, Y):\n",
    "        Y_h_prob = self.forward(X)\n",
    "        nll = - np.mean(np.sum(Y_h_prob*Y, 1) - logsumexp(Y_h_prob))\n",
    "        return nll"
   ]
  },
  {
   "cell_type": "markdown",
   "metadata": {},
   "source": [
    "### Preprocessing: Normalize image data\n",
    "* speed up training (rescales the values into a range of [0,1])\n",
    "* higher accuracy - lower loss"
   ]
  },
  {
   "cell_type": "code",
   "execution_count": 33,
   "metadata": {},
   "outputs": [],
   "source": [
    "norm = Normalizer()\n",
    "Y = np.array(pd.get_dummies(np.squeeze(Y)))\n",
    "X = norm.fit_transform(X)\n",
    "\n",
    "X_test = norm.fit_transform(X_test)\n",
    "Y_test = np.array(pd.get_dummies(np.squeeze(Y_test)))"
   ]
  },
  {
   "cell_type": "markdown",
   "metadata": {},
   "source": [
    "### Prepare dataset for training\n",
    "\n",
    "Stochastic gradient descent mini-batch"
   ]
  },
  {
   "cell_type": "code",
   "execution_count": 34,
   "metadata": {},
   "outputs": [],
   "source": [
    "def next_batch(X, Y, batch_size):\n",
    "    for i in np.arange(0, X.shape[0], batch_size):\n",
    "        # Avoid last batch != batch_size\n",
    "        if X[i:i + batch_size].shape[0] == batch_size:\n",
    "            yield (X[i:i + batch_size], Y[i:i + batch_size])"
   ]
  },
  {
   "cell_type": "markdown",
   "metadata": {},
   "source": [
    "### Train the NN\n",
    "#### Take 2 hidden layers as example \n",
    "\n",
    "* Initialize weight, bias and define *layer* \n",
    "* Initialize *batch_size*, *epochs*, and *lr/learning_rate*\n",
    "* Initialize Neuron Net (ANN)\n",
    "* Split input data to training and validation dataset\n",
    "* Loop/training start"
   ]
  },
  {
   "cell_type": "code",
   "execution_count": 127,
   "metadata": {},
   "outputs": [
    {
     "data": {
      "application/vnd.jupyter.widget-view+json": {
       "model_id": "e664c97a27e7421da3b58a39a8d2d961",
       "version_major": 2,
       "version_minor": 0
      },
      "text/plain": [
       "HBox(children=(FloatProgress(value=0.0, max=1000.0), HTML(value='')))"
      ]
     },
     "metadata": {},
     "output_type": "display_data"
    },
    {
     "name": "stdout",
     "output_type": "stream",
     "text": [
      "\n"
     ]
    }
   ],
   "source": [
    "# Layers init\n",
    "layer_dim = [[3072,128],[128,64],[64,10]]\n",
    "memory_W, memory_b = init_weight_bias(layer_dim)\n",
    "\n",
    "# Take 2 hidden layers as example\n",
    "layer = {\"layer_dim\":layer_dim,\n",
    "         \"activations\":[\"relu\",\"relu\",\"relu\",\"softmax\"],\n",
    "         \"weights\":memory_W, \"bias\":memory_b}\n",
    "\n",
    "# Batch size, epochs, and learning rate\n",
    "batch_size = 64\n",
    "epochs = 1000\n",
    "lr = 0.01\n",
    "\n",
    "# Training-val dataset split\n",
    "X_train, X_val, y_train, y_val = train_test_split(X, Y, test_size=0.1, random_state=42, shuffle = True)\n",
    "\n",
    "# loss, accuracy lists\n",
    "losses_train = []\n",
    "losses_val = []\n",
    "accuracies_train = []\n",
    "accuracies_val = []\n",
    "\n",
    "# Init neuron net\n",
    "model = ANN(layer)\n",
    "\n",
    "# Training start\n",
    "for epoch in tqdm(range(epochs)):\n",
    "        loss_train = []\n",
    "        acc_train = []\n",
    "        for batch_X, batch_Y in next_batch(X_train, y_train, batch_size):\n",
    "            model.fit(batch_X, batch_Y)\n",
    "\n",
    "            # Training loss, accuracy\n",
    "            loss_train.append(model.cost(batch_X, batch_Y))\n",
    "            acc_train.append(model.score(batch_X,batch_Y))\n",
    "\n",
    "        # Average losses, accuracy\n",
    "        losses_train.append(np.mean(loss_train))\n",
    "        accuracies_train.append(np.mean(acc_train))\n",
    "        \n",
    "        # Validation loss, accuracy\n",
    "        losses_val.append(model.cost(X_val, y_val))\n",
    "        accuracies_val.append(model.score(X_val, y_val))\n",
    "        \n",
    "        # Print loss, accuracy every 100 epochs\n",
    "        if epoch % 100 == 0:\n",
    "            print(\"Step \" + str(epoch) + \", Minibatch Loss= \" + \\\n",
    "                      \"{:.4f}\".format(np.mean(loss_train)) + \", Training Accuracy= \" + \\\n",
    "                      \"{:.3f}\".format(np.mean(acc_train)))\n",
    "            print(\"Validation: \" + \"Step \" + str(epoch) + \", Minibatch Loss= \" + \\\n",
    "                      \"{:.4f}\".format(losses_val[-1]) + \", Validation Accuracy= \" + \\\n",
    "                      \"{:.3f}\".format(accuracies_val[-1])\n",
    "print(\"Optimization Finished!\")\n",
    "losses = {\"losses_train\":losses_train, \"losses_val\":losses_val}\n",
    "accuracies = {\"accuracies_train\":accuracies_train, \"accuracies_val\":accuracies_val}"
   ]
  },
  {
   "cell_type": "markdown",
   "metadata": {},
   "source": [
    "### Overall test accuracy"
   ]
  },
  {
   "cell_type": "code",
   "execution_count": 35,
   "metadata": {},
   "outputs": [
    {
     "data": {
      "text/plain": [
       "0.5194"
      ]
     },
     "execution_count": 35,
     "metadata": {},
     "output_type": "execute_result"
    }
   ],
   "source": [
    "model.score(X_test, Y_test)"
   ]
  },
  {
   "cell_type": "markdown",
   "metadata": {},
   "source": [
    "### By class test accuracy"
   ]
  },
  {
   "cell_type": "code",
   "execution_count": 104,
   "metadata": {},
   "outputs": [
    {
     "name": "stdout",
     "output_type": "stream",
     "text": [
      "Accuracy of plane : 49 %\n",
      "Accuracy of   car : 50 %\n",
      "Accuracy of  bird : 52 %\n",
      "Accuracy of   cat : 54 %\n",
      "Accuracy of  deer : 52 %\n",
      "Accuracy of   dog : 52 %\n",
      "Accuracy of  frog : 52 %\n",
      "Accuracy of horse : 51 %\n",
      "Accuracy of  ship : 51 %\n",
      "Accuracy of truck : 52 %\n"
     ]
    }
   ],
   "source": [
    "classes = ('plane', 'car', 'bird', 'cat',\n",
    "           'deer', 'dog', 'frog', 'horse', 'ship', 'truck')\n",
    "\n",
    "Y_test_class = dicts[b'labels']\n",
    "class_correct = list(0. for i in range(10))\n",
    "class_total = list(0. for i in range(10))\n",
    "\n",
    "for i in range(0, X_test.shape[0], 4):\n",
    "    images = X_test[i:i+4]\n",
    "    labels = Y_test[i:i+4]\n",
    "    predicted = model.predict(images)\n",
    "    labels_class = Y_test_class[i:i+4]\n",
    "    for j in range(4):\n",
    "        label = labels_class[j]\n",
    "        class_correct[label] += (predicted[j] == labels[j]).all()\n",
    "        class_total[label] += 1\n",
    "            \n",
    "\n",
    "for i in range(10):\n",
    "    print('Accuracy of %5s : %2d %%' % (\n",
    "        classes[i], 100 * (class_correct[i]) / class_total[i]))"
   ]
  },
  {
   "cell_type": "markdown",
   "metadata": {},
   "source": [
    "### Accuracy, Loss plot"
   ]
  },
  {
   "cell_type": "code",
   "execution_count": 37,
   "metadata": {
    "scrolled": true
   },
   "outputs": [
    {
     "data": {
      "image/png": "[encoded data removed]",
      "text/plain": [
       "<Figure size 432x288 with 1 Axes>"
      ]
     },
     "metadata": {
      "needs_background": "light"
     },
     "output_type": "display_data"
    }
   ],
   "source": [
    "plt.plot(accuracies[\"accuracies_val\"])\n",
    "plt.plot(accuracies[\"accuracies_train\"])\n",
    "plt.legend([\"Acc_Val\", \"Acc_Train\"])\n",
    "plt.show()"
   ]
  },
  {
   "cell_type": "code",
   "execution_count": 39,
   "metadata": {},
   "outputs": [
    {
     "data": {
      "image/png": "[encoded data removed]",
      "text/plain": [
       "<Figure size 432x288 with 1 Axes>"
      ]
     },
     "metadata": {
      "needs_background": "light"
     },
     "output_type": "display_data"
    }
   ],
   "source": [
    "plt.plot(losses[\"losses_val\"])\n",
    "plt.plot(losses[\"losses_train\"])\n",
    "plt.legend([\"Loss_Val\", \"Loss_Train\"])\n",
    "plt.show()"
   ]
  }
 ],
 "metadata": {
  "kernelspec": {
   "display_name": "Python 3",
   "language": "python",
   "name": "python3"
  },
  "language_info": {
   "codemirror_mode": {
    "name": "ipython",
    "version": 3
   },
   "file_extension": ".py",
   "mimetype": "text/x-python",
   "name": "python",
   "nbconvert_exporter": "python",
   "pygments_lexer": "ipython3",
   "version": "3.6.8"
  }
 },
 "nbformat": 4,
 "nbformat_minor": 2
}
